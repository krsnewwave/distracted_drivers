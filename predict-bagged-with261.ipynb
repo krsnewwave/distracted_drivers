{
 "cells": [
  {
   "cell_type": "code",
   "execution_count": 1,
   "metadata": {
    "collapsed": false
   },
   "outputs": [
    {
     "name": "stdout",
     "output_type": "stream",
     "text": [
      "Couldn't import dot_parser, loading of dot files will not be possible.\n",
      "Populating the interactive namespace from numpy and matplotlib"
     ]
    },
    {
     "name": "stderr",
     "output_type": "stream",
     "text": [
      "Using gpu device 0: GeForce GTX 960 (CNMeM is disabled, CuDNN 4004)\n",
      "WARNING: "
     ]
    },
    {
     "name": "stdout",
     "output_type": "stream",
     "text": [
      "\n"
     ]
    },
    {
     "name": "stderr",
     "output_type": "stream",
     "text": [
      "pylab import has clobbered these variables: ['ceil', 'floor']\n",
      "`%matplotlib` prevents importing * from pylab and numpy\n"
     ]
    }
   ],
   "source": [
    "import notebook_functions\n",
    "reload(notebook_functions)\n",
    "from notebook_functions import *\n",
    "import os, pandas as pd, cPickle as pickle\n",
    "from nolearn.lasagne.visualize import plot_conv_activity, plot_conv_weights, plot_occlusion\n",
    "from lasagne.layers import get_output, get_output_shape\n",
    "import theano.tensor as T\n",
    "import theano\n",
    "%pylab inline"
   ]
  },
  {
   "cell_type": "code",
   "execution_count": 2,
   "metadata": {
    "collapsed": false
   },
   "outputs": [
    {
     "data": {
      "text/html": [
       "<div>\n",
       "<table border=\"1\" class=\"dataframe\">\n",
       "  <thead>\n",
       "    <tr style=\"text-align: right;\">\n",
       "      <th></th>\n",
       "      <th>c0</th>\n",
       "      <th>c1</th>\n",
       "      <th>c2</th>\n",
       "      <th>c3</th>\n",
       "      <th>c4</th>\n",
       "      <th>c5</th>\n",
       "      <th>c6</th>\n",
       "      <th>c7</th>\n",
       "      <th>c8</th>\n",
       "      <th>c9</th>\n",
       "    </tr>\n",
       "    <tr>\n",
       "      <th>img</th>\n",
       "      <th></th>\n",
       "      <th></th>\n",
       "      <th></th>\n",
       "      <th></th>\n",
       "      <th></th>\n",
       "      <th></th>\n",
       "      <th></th>\n",
       "      <th></th>\n",
       "      <th></th>\n",
       "      <th></th>\n",
       "    </tr>\n",
       "  </thead>\n",
       "  <tbody>\n",
       "    <tr>\n",
       "      <th>img_73540.jpg</th>\n",
       "      <td>0.001792</td>\n",
       "      <td>0.001862</td>\n",
       "      <td>0.001615</td>\n",
       "      <td>0.001430</td>\n",
       "      <td>0.001713</td>\n",
       "      <td>0.985091</td>\n",
       "      <td>0.001590</td>\n",
       "      <td>0.001571</td>\n",
       "      <td>0.001598</td>\n",
       "      <td>0.001738</td>\n",
       "    </tr>\n",
       "    <tr>\n",
       "      <th>img_9672.jpg</th>\n",
       "      <td>0.001199</td>\n",
       "      <td>0.001071</td>\n",
       "      <td>0.990131</td>\n",
       "      <td>0.001134</td>\n",
       "      <td>0.001298</td>\n",
       "      <td>0.001053</td>\n",
       "      <td>0.001057</td>\n",
       "      <td>0.000954</td>\n",
       "      <td>0.001030</td>\n",
       "      <td>0.001073</td>\n",
       "    </tr>\n",
       "    <tr>\n",
       "      <th>img_49295.jpg</th>\n",
       "      <td>0.001446</td>\n",
       "      <td>0.001463</td>\n",
       "      <td>0.001732</td>\n",
       "      <td>0.001496</td>\n",
       "      <td>0.986199</td>\n",
       "      <td>0.001575</td>\n",
       "      <td>0.001503</td>\n",
       "      <td>0.001498</td>\n",
       "      <td>0.001612</td>\n",
       "      <td>0.001475</td>\n",
       "    </tr>\n",
       "  </tbody>\n",
       "</table>\n",
       "</div>"
      ],
      "text/plain": [
       "                     c0        c1        c2        c3        c4        c5  \\\n",
       "img                                                                         \n",
       "img_73540.jpg  0.001792  0.001862  0.001615  0.001430  0.001713  0.985091   \n",
       "img_9672.jpg   0.001199  0.001071  0.990131  0.001134  0.001298  0.001053   \n",
       "img_49295.jpg  0.001446  0.001463  0.001732  0.001496  0.986199  0.001575   \n",
       "\n",
       "                     c6        c7        c8        c9  \n",
       "img                                                    \n",
       "img_73540.jpg  0.001590  0.001571  0.001598  0.001738  \n",
       "img_9672.jpg   0.001057  0.000954  0.001030  0.001073  \n",
       "img_49295.jpg  0.001503  0.001498  0.001612  0.001475  "
      ]
     },
     "execution_count": 2,
     "metadata": {},
     "output_type": "execute_result"
    }
   ],
   "source": [
    "df_larger = pd.read_csv(\"preds.net.vgg.large.l2.5e3.orthog-norm-maxout8-lr.2.steps-size-261.csv\",\n",
    "                       index_col=0)\n",
    "df_larger[:3]"
   ]
  },
  {
   "cell_type": "markdown",
   "metadata": {},
   "source": [
    "# Read first csv"
   ]
  },
  {
   "cell_type": "code",
   "execution_count": 10,
   "metadata": {
    "collapsed": false
   },
   "outputs": [
    {
     "data": {
      "text/html": [
       "<div>\n",
       "<table border=\"1\" class=\"dataframe\">\n",
       "  <thead>\n",
       "    <tr style=\"text-align: right;\">\n",
       "      <th></th>\n",
       "      <th>c0</th>\n",
       "      <th>c1</th>\n",
       "      <th>c2</th>\n",
       "      <th>c3</th>\n",
       "      <th>c4</th>\n",
       "      <th>c5</th>\n",
       "      <th>c6</th>\n",
       "      <th>c7</th>\n",
       "      <th>c8</th>\n",
       "      <th>c9</th>\n",
       "    </tr>\n",
       "    <tr>\n",
       "      <th>img</th>\n",
       "      <th></th>\n",
       "      <th></th>\n",
       "      <th></th>\n",
       "      <th></th>\n",
       "      <th></th>\n",
       "      <th></th>\n",
       "      <th></th>\n",
       "      <th></th>\n",
       "      <th></th>\n",
       "      <th></th>\n",
       "    </tr>\n",
       "  </thead>\n",
       "  <tbody>\n",
       "    <tr>\n",
       "      <th>img_73540.jpg</th>\n",
       "      <td>0.002068</td>\n",
       "      <td>0.001070</td>\n",
       "      <td>0.001171</td>\n",
       "      <td>0.001879</td>\n",
       "      <td>0.001061</td>\n",
       "      <td>0.988639</td>\n",
       "      <td>0.001038</td>\n",
       "      <td>0.001012</td>\n",
       "      <td>0.000941</td>\n",
       "      <td>0.001121</td>\n",
       "    </tr>\n",
       "    <tr>\n",
       "      <th>img_9672.jpg</th>\n",
       "      <td>0.002029</td>\n",
       "      <td>0.002374</td>\n",
       "      <td>0.982668</td>\n",
       "      <td>0.001452</td>\n",
       "      <td>0.001601</td>\n",
       "      <td>0.001600</td>\n",
       "      <td>0.001891</td>\n",
       "      <td>0.001657</td>\n",
       "      <td>0.002499</td>\n",
       "      <td>0.002229</td>\n",
       "    </tr>\n",
       "    <tr>\n",
       "      <th>img_49295.jpg</th>\n",
       "      <td>0.001817</td>\n",
       "      <td>0.001031</td>\n",
       "      <td>0.001063</td>\n",
       "      <td>0.001287</td>\n",
       "      <td>0.989370</td>\n",
       "      <td>0.001161</td>\n",
       "      <td>0.001099</td>\n",
       "      <td>0.001106</td>\n",
       "      <td>0.000996</td>\n",
       "      <td>0.001070</td>\n",
       "    </tr>\n",
       "    <tr>\n",
       "      <th>img_91517.jpg</th>\n",
       "      <td>0.003012</td>\n",
       "      <td>0.001345</td>\n",
       "      <td>0.001518</td>\n",
       "      <td>0.001606</td>\n",
       "      <td>0.001643</td>\n",
       "      <td>0.985064</td>\n",
       "      <td>0.001751</td>\n",
       "      <td>0.001497</td>\n",
       "      <td>0.001173</td>\n",
       "      <td>0.001393</td>\n",
       "    </tr>\n",
       "    <tr>\n",
       "      <th>img_51925.jpg</th>\n",
       "      <td>0.954098</td>\n",
       "      <td>0.003298</td>\n",
       "      <td>0.002645</td>\n",
       "      <td>0.008444</td>\n",
       "      <td>0.004786</td>\n",
       "      <td>0.007253</td>\n",
       "      <td>0.003060</td>\n",
       "      <td>0.002755</td>\n",
       "      <td>0.002484</td>\n",
       "      <td>0.011176</td>\n",
       "    </tr>\n",
       "  </tbody>\n",
       "</table>\n",
       "</div>"
      ],
      "text/plain": [
       "                     c0        c1        c2        c3        c4        c5  \\\n",
       "img                                                                         \n",
       "img_73540.jpg  0.002068  0.001070  0.001171  0.001879  0.001061  0.988639   \n",
       "img_9672.jpg   0.002029  0.002374  0.982668  0.001452  0.001601  0.001600   \n",
       "img_49295.jpg  0.001817  0.001031  0.001063  0.001287  0.989370  0.001161   \n",
       "img_91517.jpg  0.003012  0.001345  0.001518  0.001606  0.001643  0.985064   \n",
       "img_51925.jpg  0.954098  0.003298  0.002645  0.008444  0.004786  0.007253   \n",
       "\n",
       "                     c6        c7        c8        c9  \n",
       "img                                                    \n",
       "img_73540.jpg  0.001038  0.001012  0.000941  0.001121  \n",
       "img_9672.jpg   0.001891  0.001657  0.002499  0.002229  \n",
       "img_49295.jpg  0.001099  0.001106  0.000996  0.001070  \n",
       "img_91517.jpg  0.001751  0.001497  0.001173  0.001393  \n",
       "img_51925.jpg  0.003060  0.002755  0.002484  0.011176  "
      ]
     },
     "execution_count": 10,
     "metadata": {},
     "output_type": "execute_result"
    }
   ],
   "source": [
    "df = pd.read_csv(\"preds.bagged.001.csv\", index_col=0)\n",
    "df[:5]"
   ]
  },
  {
   "cell_type": "code",
   "execution_count": 19,
   "metadata": {
    "collapsed": false
   },
   "outputs": [
    {
     "name": "stdout",
     "output_type": "stream",
     "text": [
      "(79726, 10, 2)\n",
      "(79726, 10)\n"
     ]
    }
   ],
   "source": [
    "mat_concat = np.dstack((df, df_larger))\n",
    "print mat_concat.shape\n",
    "mat_concat = np.mean(mat_concat, axis=2)\n",
    "print mat_concat.shape"
   ]
  },
  {
   "cell_type": "code",
   "execution_count": 21,
   "metadata": {
    "collapsed": false
   },
   "outputs": [
    {
     "data": {
      "text/plain": [
       "(79726, 10)"
      ]
     },
     "execution_count": 21,
     "metadata": {},
     "output_type": "execute_result"
    }
   ],
   "source": [
    "both_df = pd.DataFrame(mat_concat, index=df.index, \n",
    "                       columns=[\"c0\",\"c1\", \"c2\", \"c3\", \"c4\", \"c5\", \"c6\", \"c7\", \"c8\", \"c9\"])\n",
    "both_df.index.name ='img'\n",
    "both_df.shape"
   ]
  },
  {
   "cell_type": "code",
   "execution_count": 22,
   "metadata": {
    "collapsed": false
   },
   "outputs": [
    {
     "data": {
      "text/html": [
       "<div>\n",
       "<table border=\"1\" class=\"dataframe\">\n",
       "  <thead>\n",
       "    <tr style=\"text-align: right;\">\n",
       "      <th></th>\n",
       "      <th>c0</th>\n",
       "      <th>c1</th>\n",
       "      <th>c2</th>\n",
       "      <th>c3</th>\n",
       "      <th>c4</th>\n",
       "      <th>c5</th>\n",
       "      <th>c6</th>\n",
       "      <th>c7</th>\n",
       "      <th>c8</th>\n",
       "      <th>c9</th>\n",
       "    </tr>\n",
       "    <tr>\n",
       "      <th>img</th>\n",
       "      <th></th>\n",
       "      <th></th>\n",
       "      <th></th>\n",
       "      <th></th>\n",
       "      <th></th>\n",
       "      <th></th>\n",
       "      <th></th>\n",
       "      <th></th>\n",
       "      <th></th>\n",
       "      <th></th>\n",
       "    </tr>\n",
       "  </thead>\n",
       "  <tbody>\n",
       "    <tr>\n",
       "      <th>img_73540.jpg</th>\n",
       "      <td>0.001930</td>\n",
       "      <td>0.001466</td>\n",
       "      <td>0.001393</td>\n",
       "      <td>0.001654</td>\n",
       "      <td>0.001387</td>\n",
       "      <td>0.986865</td>\n",
       "      <td>0.001314</td>\n",
       "      <td>0.001292</td>\n",
       "      <td>0.001270</td>\n",
       "      <td>0.001429</td>\n",
       "    </tr>\n",
       "    <tr>\n",
       "      <th>img_9672.jpg</th>\n",
       "      <td>0.001614</td>\n",
       "      <td>0.001723</td>\n",
       "      <td>0.986399</td>\n",
       "      <td>0.001293</td>\n",
       "      <td>0.001449</td>\n",
       "      <td>0.001326</td>\n",
       "      <td>0.001474</td>\n",
       "      <td>0.001305</td>\n",
       "      <td>0.001765</td>\n",
       "      <td>0.001651</td>\n",
       "    </tr>\n",
       "    <tr>\n",
       "      <th>img_49295.jpg</th>\n",
       "      <td>0.001632</td>\n",
       "      <td>0.001247</td>\n",
       "      <td>0.001398</td>\n",
       "      <td>0.001391</td>\n",
       "      <td>0.987785</td>\n",
       "      <td>0.001368</td>\n",
       "      <td>0.001301</td>\n",
       "      <td>0.001302</td>\n",
       "      <td>0.001304</td>\n",
       "      <td>0.001273</td>\n",
       "    </tr>\n",
       "  </tbody>\n",
       "</table>\n",
       "</div>"
      ],
      "text/plain": [
       "                     c0        c1        c2        c3        c4        c5  \\\n",
       "img                                                                         \n",
       "img_73540.jpg  0.001930  0.001466  0.001393  0.001654  0.001387  0.986865   \n",
       "img_9672.jpg   0.001614  0.001723  0.986399  0.001293  0.001449  0.001326   \n",
       "img_49295.jpg  0.001632  0.001247  0.001398  0.001391  0.987785  0.001368   \n",
       "\n",
       "                     c6        c7        c8        c9  \n",
       "img                                                    \n",
       "img_73540.jpg  0.001314  0.001292  0.001270  0.001429  \n",
       "img_9672.jpg   0.001474  0.001305  0.001765  0.001651  \n",
       "img_49295.jpg  0.001301  0.001302  0.001304  0.001273  "
      ]
     },
     "execution_count": 22,
     "metadata": {},
     "output_type": "execute_result"
    }
   ],
   "source": [
    "both_df[:3]"
   ]
  },
  {
   "cell_type": "code",
   "execution_count": 23,
   "metadata": {
    "collapsed": false
   },
   "outputs": [],
   "source": [
    "both_df.to_csv(\"preds.bagged.002.csv\")"
   ]
  },
  {
   "cell_type": "code",
   "execution_count": null,
   "metadata": {
    "collapsed": true
   },
   "outputs": [],
   "source": []
  }
 ],
 "metadata": {
  "kernelspec": {
   "display_name": "Python 2",
   "language": "python",
   "name": "python2"
  },
  "language_info": {
   "codemirror_mode": {
    "name": "ipython",
    "version": 2
   },
   "file_extension": ".py",
   "mimetype": "text/x-python",
   "name": "python",
   "nbconvert_exporter": "python",
   "pygments_lexer": "ipython2",
   "version": "2.7.6"
  }
 },
 "nbformat": 4,
 "nbformat_minor": 0
}
