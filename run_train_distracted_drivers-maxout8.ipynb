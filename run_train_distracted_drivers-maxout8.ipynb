{
 "cells": [
  {
   "cell_type": "markdown",
   "metadata": {
    "collapsed": false
   },
   "source": [
    "The changes here are:\n",
    "- Orthogonal weight initialization\n",
    "- Decreasing learning rate by step size"
   ]
  },
  {
   "cell_type": "code",
   "execution_count": 1,
   "metadata": {
    "collapsed": false
   },
   "outputs": [
    {
     "name": "stdout",
     "output_type": "stream",
     "text": [
      "Populating the interactive namespace from numpy and matplotlib\n"
     ]
    }
   ],
   "source": [
    "from skimage import io, transform, exposure, color, util\n",
    "import os, itertools, sys\n",
    "from PIL import Image\n",
    "%pylab inline\n",
    "sys.setrecursionlimit(1000000)"
   ]
  },
  {
   "cell_type": "code",
   "execution_count": 2,
   "metadata": {
    "collapsed": false
   },
   "outputs": [],
   "source": [
    "# data_dir = \"/home/dylan/IdeaProjects/distracted_drivers/train/\"\n",
    "data_dir =  \"/media/dylan/Science/Kaggle-Data/distracted_drivers/train/\""
   ]
  },
  {
   "cell_type": "code",
   "execution_count": 3,
   "metadata": {
    "collapsed": true
   },
   "outputs": [],
   "source": [
    "input_volume_shape = (128, 128)"
   ]
  },
  {
   "cell_type": "code",
   "execution_count": 4,
   "metadata": {
    "collapsed": false
   },
   "outputs": [],
   "source": [
    "def read_img_file_PIL(file_path, size=(32,32)):\n",
    "    img = Image.open(file_path).convert('L')\n",
    "    img.thumbnail(size, Image.NEAREST)\n",
    "    data = np.array(img)\n",
    "    shape = data.shape\n",
    "    append_top = int(ceil(max(0, size[0] - shape[0])/2.0))\n",
    "    append_bot = int(floor(max(0, size[0] - shape[0])/2.0))\n",
    "    data = util.pad(data, ((append_top, append_bot),\n",
    "                           (0,0)), mode='constant', constant_values=0)\n",
    "    return data"
   ]
  },
  {
   "cell_type": "code",
   "execution_count": 5,
   "metadata": {
    "collapsed": true
   },
   "outputs": [],
   "source": [
    "def read_img_file(file_path, rescale=0.01):\n",
    "    img = io.imread(file_path)\n",
    "    img= color.rgb2gray(img)\n",
    "    return transform.rescale(img, rescale)"
   ]
  },
  {
   "cell_type": "code",
   "execution_count": 6,
   "metadata": {
    "collapsed": false
   },
   "outputs": [],
   "source": [
    "def image_gen_from_dir(directory, batch_size, num_categories, size=input_volume_shape):\n",
    "    result = {os.path.join(dp, f) : int(os.path.split(dp)[1]) for dp, dn, filenames in os.walk(data_dir) \n",
    "                  for f in filenames if os.path.splitext(f)[1] == '.jpg'}\n",
    "    # infinite loop\n",
    "    while True:\n",
    "        image_files = []\n",
    "        labels = []\n",
    "        # randomly choose batch size samples in result\n",
    "        for category in range(num_categories):\n",
    "            file_samples = np.random.choice([k for k, v in result.iteritems() if v == category], \n",
    "                             size=batch_size, replace=False)\n",
    "            for file_sample in file_samples:\n",
    "                image_files.append(read_img_file_PIL(file_sample, size=size))\n",
    "            labels.extend([v for v in itertools.repeat(category, batch_size)])\n",
    "\n",
    "        # end category loop\n",
    "        X = np.asarray(image_files, dtype=np.float32)\n",
    "        # -1 to 1 range\n",
    "        X = exposure.rescale_intensity(X, out_range=(-1,1))\n",
    "        y = np.asarray(labels, dtype=np.int32)\n",
    "        yield X, y"
   ]
  },
  {
   "cell_type": "markdown",
   "metadata": {},
   "source": [
    "## Another loader, augmentation time"
   ]
  },
  {
   "cell_type": "markdown",
   "metadata": {},
   "source": [
    "We'll do 6 augmentations:\n",
    "\n",
    "\n",
    "    1.) Translation up to 10 pixels\n",
    "    2.) Rotation up to 15 degrees\n",
    "    3.) Zooming\n",
    "    4.) JPEG compression\n",
    "    5.) Sharpening\n",
    "    6.) Gamma correction\n",
    "\n",
    "\n",
    "We won't do flips since the dataset only contains images from the passenger seat. Perhaps we can revisit this later."
   ]
  },
  {
   "cell_type": "code",
   "execution_count": 7,
   "metadata": {
    "collapsed": false
   },
   "outputs": [],
   "source": [
    "from skimage.transform import rotate, warp, AffineTransform\n",
    "from skimage import filters\n",
    "from scipy import ndimage, misc\n",
    "import StringIO"
   ]
  },
  {
   "cell_type": "code",
   "execution_count": 8,
   "metadata": {
    "collapsed": true
   },
   "outputs": [],
   "source": [
    "def random_translate(img):\n",
    "    shift_random = AffineTransform(translation=(randint(-10, 10), randint(-10, 10)))\n",
    "    min_value = 0 if min(img.ravel()) > 0 else min(img.ravel())\n",
    "    return np.float32(warp(img, shift_random, mode='constant', cval=min_value))\n",
    "\n",
    "def random_rotate(img):\n",
    "    min_value = 0 if min(img.ravel()) > 0 else min(img.ravel())\n",
    "    return np.float32(rotate(img, randint(-15, 15), mode='constant', cval=min_value))\n",
    "\n",
    "def random_zoom(img):\n",
    "    min_value = 0 if min(img.ravel()) > 0 else min(img.ravel())\n",
    "    scale_random = AffineTransform(scale=(uniform(0.9, 1.1), uniform(0.9, 1.1)))\n",
    "    return np.float32(warp(img, scale_random, mode='constant', cval=min_value))\n",
    "\n",
    "def random_compress(img):\n",
    "    max_v = np.ceil(img.max())\n",
    "    min_v = np.floor(img.min())\n",
    "    nd_im = exposure.rescale_intensity(img, out_range=(0, 1)).squeeze()\n",
    "    nd_im = np.ndarray.astype(nd_im * 255, np.uint8)\n",
    "    # nd_im = np.ndarray.astype(img * 255, np.uint8)\n",
    "    im = Image.fromarray(nd_im)\n",
    "    buf = StringIO.StringIO()\n",
    "    im.save(buf, \"JPEG\", quality=np.random.randint(95, 99))\n",
    "    buf.seek(0)\n",
    "    im2 = Image.open(buf)\n",
    "    x1 = exposure.rescale_intensity(np.ndarray.astype(np.array(im2), np.float32), out_range=(min_v, max_v))\n",
    "    return x1\n",
    "\n",
    "def random_sharpening(img):\n",
    "    blurred_f = ndimage.gaussian_filter(img, 0.5)\n",
    "    filter_blurred_f = ndimage.gaussian_filter(blurred_f, 1)\n",
    "    alpha = uniform(0.9, 1.2)\n",
    "    img = blurred_f + alpha * (blurred_f - filter_blurred_f)\n",
    "    return exposure.rescale_intensity(img, out_range=(-1 , 1))\n",
    "\n",
    "def random_gamma_correction(img):\n",
    "    max_v = np.ceil(img.max())\n",
    "    min_v = np.floor(img.min())\n",
    "    img = exposure.rescale_intensity(img, out_range=(0,1))\n",
    "    img = exposure.adjust_gamma(img, uniform(0.2, 0.8))\n",
    "    return exposure.rescale_intensity(img, out_range=(-1, 1))"
   ]
  },
  {
   "cell_type": "code",
   "execution_count": 9,
   "metadata": {
    "collapsed": false
   },
   "outputs": [],
   "source": [
    "def random_aug(img):\n",
    "    choice = np.random.randint(0,6)\n",
    "    # choose from 4 different augmentations!\n",
    "    if choice == 0:\n",
    "        return random_translate(img)\n",
    "    elif choice == 1:\n",
    "        return random_rotate(img)\n",
    "    elif choice == 2:\n",
    "        return random_zoom(img)\n",
    "    elif choice == 3:\n",
    "        return random_compress(img)\n",
    "    elif choice == 4:\n",
    "        return random_sharpening(img)\n",
    "    else:\n",
    "        return random_gamma_correction(img)"
   ]
  },
  {
   "cell_type": "code",
   "execution_count": 10,
   "metadata": {
    "collapsed": true
   },
   "outputs": [],
   "source": [
    "def random_aug_batch(X, aug_algorithm):\n",
    "    for i in range(X.shape[0]):\n",
    "        X[i] = aug_algorithm(X[i])\n",
    "    return X"
   ]
  },
  {
   "cell_type": "code",
   "execution_count": 11,
   "metadata": {
    "collapsed": true
   },
   "outputs": [],
   "source": [
    "def random_aug_gen(gen, aug_algorithm):\n",
    "    for batchX, batchY in gen:\n",
    "        yield random_aug_batch(batchX, aug_algorithm), batchY"
   ]
  },
  {
   "cell_type": "markdown",
   "metadata": {},
   "source": [
    "# Process Generator with cached elements"
   ]
  },
  {
   "cell_type": "code",
   "execution_count": 12,
   "metadata": {
    "collapsed": true
   },
   "outputs": [],
   "source": [
    "def threaded_generator(generator, num_cached=50):\n",
    "    import Queue\n",
    "    queue = Queue.Queue(maxsize=num_cached)\n",
    "    sentinel = object()  # guaranteed unique reference\n",
    "\n",
    "    # define producer (putting items into queue)\n",
    "    def producer():\n",
    "        for item in generator:\n",
    "            queue.put(item)\n",
    "        queue.put(sentinel)\n",
    "\n",
    "    # start producer (in a background thread)\n",
    "    import threading\n",
    "    thread = threading.Thread(target=producer)\n",
    "    thread.daemon = True\n",
    "    thread.start()\n",
    "\n",
    "    # run as consumer (read items from queue, in current thread)\n",
    "    item = queue.get()\n",
    "    while item is not sentinel:\n",
    "        yield item\n",
    "        queue.task_done()\n",
    "        item = queue.get()"
   ]
  },
  {
   "cell_type": "code",
   "execution_count": 13,
   "metadata": {
    "collapsed": false
   },
   "outputs": [
    {
     "name": "stdout",
     "output_type": "stream",
     "text": [
      "Couldn't import dot_parser, loading of dot files will not be possible.\n"
     ]
    },
    {
     "name": "stderr",
     "output_type": "stream",
     "text": [
      "Using gpu device 0: GeForce GTX 960 (CNMeM is disabled, CuDNN 4004)\n"
     ]
    }
   ],
   "source": [
    "from nolearn.lasagne import NeuralNet\n",
    "from lasagne.layers import DenseLayer, ReshapeLayer, Upscale2DLayer, Conv2DLayer, InputLayer, DropoutLayer, \\\n",
    "    MaxPool2DLayer, get_all_params, batch_norm, BatchNormLayer, FeaturePoolLayer\n",
    "import numpy as np\n",
    "from lasagne.nonlinearities import softmax, leaky_rectify, theano\n",
    "from lasagne.updates import nesterov_momentum\n",
    "from nolearn.lasagne import NeuralNet, BatchIterator, PrintLayerInfo, objective\n",
    "from nolearn.lasagne import TrainSplit\n",
    "from common import EarlyStopping, EndTrainingFromEarlyStopping\n",
    "from lasagne.objectives import categorical_crossentropy, aggregate\n",
    "import cPickle as pickle\n",
    "from sklearn import metrics\n",
    "import time, logging, logging.config, logging.handlers\n",
    "from lasagne.init import Orthogonal\n",
    "from notebook_functions import load_best_weights"
   ]
  },
  {
   "cell_type": "markdown",
   "metadata": {
    "collapsed": true
   },
   "source": [
    "def batch_norm(s):\n",
    "    return s"
   ]
  },
  {
   "cell_type": "code",
   "execution_count": 14,
   "metadata": {
    "collapsed": false
   },
   "outputs": [],
   "source": [
    "try:\n",
    "    from lasagne.layers.dnn import Conv2DDNNLayer, MaxPool2DDNNLayer\n",
    "    def conv_2_layer_stack(top, num_filters):\n",
    "        conv1 = batch_norm(Conv2DDNNLayer(top, num_filters, (3, 3), \n",
    "                stride=1, pad=1, nonlinearity=leaky_rectify, W=Orthogonal()))\n",
    "        conv2 = batch_norm(Conv2DDNNLayer(conv1, num_filters, (3, 3), \n",
    "                stride=1, pad=1, nonlinearity=leaky_rectify, W=Orthogonal()))\n",
    "        return MaxPool2DDNNLayer(conv2, (2, 2), 2)\n",
    "\n",
    "    def conv_3_layer_stack(top, num_filters):\n",
    "        conv1 = batch_norm(Conv2DDNNLayer(top, num_filters, (3, 3), \n",
    "                    stride=1, pad=1, nonlinearity=leaky_rectify, W=Orthogonal()))\n",
    "        conv2 = batch_norm(Conv2DDNNLayer(conv1, num_filters, (3, 3), \n",
    "                    stride=1, pad=1, nonlinearity=leaky_rectify, W=Orthogonal()))\n",
    "        conv3 = batch_norm(Conv2DDNNLayer(conv2, num_filters, (3, 3), \n",
    "                    stride=1, pad=1, nonlinearity=leaky_rectify, W=Orthogonal()))\n",
    "        return MaxPool2DDNNLayer(conv3, (2, 2), 2)\n",
    "    \n",
    "    def conv_4_layer_stack(top, num_filters):\n",
    "        conv1 = batch_norm(Conv2DDNNLayer(top, num_filters, (3, 3), \n",
    "                    stride=1, pad=1, nonlinearity=leaky_rectify, W=Orthogonal()))\n",
    "        conv2 = batch_norm(Conv2DDNNLayer(conv1, num_filters, (3, 3), \n",
    "                    stride=1, pad=1, nonlinearity=leaky_rectify, W=Orthogonal()))\n",
    "        conv3 = batch_norm(Conv2DDNNLayer(conv2, num_filters, (3, 3), \n",
    "                    stride=1, pad=1, nonlinearity=leaky_rectify, W=Orthogonal()))\n",
    "        conv4 = batch_norm(Conv2DDNNLayer(conv3, num_filters, (3, 3), \n",
    "                    stride=1, pad=1, nonlinearity=leaky_rectify, W=Orthogonal()))\n",
    "        return MaxPool2DDNNLayer(conv4, (2, 2), 2)\n",
    "    \n",
    "    def conv_6_layer_stack(top, num_filters):\n",
    "        conv1 = batch_norm(Conv2DDNNLayer(top, num_filters, (3, 3), \n",
    "                    stride=1, pad=1, nonlinearity=leaky_rectify, W=Orthogonal()))\n",
    "        conv2 = batch_norm(Conv2DDNNLayer(conv1, num_filters, (3, 3), \n",
    "                    stride=1, pad=1, nonlinearity=leaky_rectify, W=Orthogonal()))\n",
    "        conv3 = batch_norm(Conv2DDNNLayer(conv2, num_filters, (3, 3), \n",
    "                    stride=1, pad=1, nonlinearity=leaky_rectify, W=Orthogonal()))\n",
    "        conv4 = batch_norm(Conv2DDNNLayer(conv3, num_filters, (3, 3), \n",
    "                stride=1, pad=1, nonlinearity=leaky_rectify, W=Orthogonal()))\n",
    "        conv5 = batch_norm(Conv2DDNNLayer(conv4, num_filters, (3, 3), \n",
    "                stride=1, pad=1, nonlinearity=leaky_rectify, W=Orthogonal()))\n",
    "        conv6 = batch_norm(Conv2DDNNLayer(conv5, num_filters, (3, 3), \n",
    "                stride=1, pad=1, nonlinearity=leaky_rectify, W=Orthogonal()))\n",
    "        return MaxPool2DLayer(conv6, (2, 2), 2)\n",
    "    \n",
    "except ImportError:\n",
    "    def conv_2_layer_stack(top, num_filters):\n",
    "        conv1 = batch_norm(Conv2DLayer(top, num_filters, (3, 3), stride=1, pad=1, nonlinearity=leaky_rectify))\n",
    "        conv2 = batch_norm(Conv2DLayer(conv1, num_filters, (3, 3), stride=1, pad=1, nonlinearity=leaky_rectify))\n",
    "        return MaxPool2DLayer(conv2, (2, 2), 2)\n",
    "\n",
    "    def conv_3_layer_stack(top, num_filters):\n",
    "        conv1 = batch_norm(Conv2DLayer(top, num_filters, (3, 3), stride=1, pad=1, nonlinearity=leaky_rectify))\n",
    "        conv2 = batch_norm(Conv2DLayer(conv1, num_filters, (3, 3), stride=1, pad=1, nonlinearity=leaky_rectify))\n",
    "        conv3 = batch_norm(Conv2DLayer(conv2, num_filters, (3, 3), stride=1, pad=1, nonlinearity=leaky_rectify))\n",
    "        return MaxPool2DLayer(conv3, (2, 2), 2)    \n",
    "    \n",
    "    def conv_4_layer_stack(top, num_filters):\n",
    "        conv1 = batch_norm(Conv2DLayer(top, num_filters, (3, 3), stride=1, pad=1, nonlinearity=leaky_rectify))\n",
    "        conv2 = batch_norm(Conv2DLayer(conv1, num_filters, (3, 3), stride=1, pad=1, nonlinearity=leaky_rectify))\n",
    "        conv3 = batch_norm(Conv2DLayer(conv2, num_filters, (3, 3), stride=1, pad=1, nonlinearity=leaky_rectify))\n",
    "        conv4 = batch_norm(Conv2DLayer(conv3, num_filters, (3, 3), stride=1, pad=1, nonlinearity=leaky_rectify))\n",
    "        return MaxPool2DLayer(conv4, (2, 2), 2)\n",
    "    \n",
    "    def conv_6_layer_stack(top, num_filters):\n",
    "        conv1 = batch_norm(Conv2DLayer(top, num_filters, (3, 3), stride=1, pad=1, nonlinearity=leaky_rectify))\n",
    "        conv2 = batch_norm(Conv2DLayer(conv1, num_filters, (3, 3), stride=1, pad=1, nonlinearity=leaky_rectify))\n",
    "        conv3 = batch_norm(Conv2DLayer(conv2, num_filters, (3, 3), stride=1, pad=1, nonlinearity=leaky_rectify))\n",
    "        conv4 = batch_norm(Conv2DLayer(conv3, num_filters, (3, 3), stride=1, pad=1, nonlinearity=leaky_rectify))\n",
    "        conv5 = batch_norm(Conv2DLayer(conv4, num_filters, (3, 3), stride=1, pad=1, nonlinearity=leaky_rectify))\n",
    "        conv6 = batch_norm(Conv2DLayer(conv5, num_filters, (3, 3), stride=1, pad=1, nonlinearity=leaky_rectify))\n",
    "        return MaxPool2DLayer(conv6, (2, 2), 2)"
   ]
  },
  {
   "cell_type": "code",
   "execution_count": 15,
   "metadata": {
    "collapsed": true
   },
   "outputs": [],
   "source": [
    "k = 8\n",
    "input_layer = InputLayer((None, 1, input_volume_shape[0], input_volume_shape[1]))\n",
    "conv_stack_1 = conv_2_layer_stack(input_layer, 32)\n",
    "dropout1 = DropoutLayer(conv_stack_1, p=0.1)\n",
    "\n",
    "conv_stack_2 = conv_2_layer_stack(dropout1, 64)\n",
    "dropout2 = DropoutLayer(conv_stack_2, p=0.2)\n",
    "\n",
    "conv_stack_3 = conv_2_layer_stack(dropout2, 128)\n",
    "dropout3 = DropoutLayer(conv_stack_3, p=0.3)\n",
    "\n",
    "conv_stack_4 = conv_2_layer_stack(dropout3, 256)\n",
    "dropout4 = DropoutLayer(conv_stack_4, p=0.4)\n",
    "\n",
    "conv_stack_5 = conv_2_layer_stack(dropout4, 512)\n",
    "dropout17 = DropoutLayer(conv_stack_5, p=0.5)\n",
    "\n",
    "dense18 = DenseLayer(dropout17, 2048, nonlinearity=None)\n",
    "norm1 = BatchNormLayer(dense18)\n",
    "maxout1 = FeaturePoolLayer(norm1, k)\n",
    "dropout19 = DropoutLayer(maxout1, p=0.5)\n",
    "\n",
    "dense20 = DenseLayer(dropout19, 2048, nonlinearity=None)\n",
    "norm2 = BatchNormLayer(dense20)\n",
    "maxout2 = FeaturePoolLayer(norm2, k)\n",
    "\n",
    "softmax21 = DenseLayer(maxout2, 10, nonlinearity=softmax)"
   ]
  },
  {
   "cell_type": "markdown",
   "metadata": {},
   "source": [
    "## Quality of Life Functions"
   ]
  },
  {
   "cell_type": "code",
   "execution_count": 16,
   "metadata": {
    "collapsed": false
   },
   "outputs": [],
   "source": [
    "if not os.path.exists(\"logs\"):\n",
    "    os.mkdir(\"logs\")\n",
    "logging.config.fileConfig(\"logging-training.conf\")\n",
    "\n",
    "def regularization_objective(layers, lambda1=0., lambda2=0., *args, **kwargs):\n",
    "    # default loss\n",
    "    losses = objective(layers, *args, **kwargs)\n",
    "    # get layer weights except for the biases\n",
    "    weights = get_all_params(layers[-1], regularizable=True)\n",
    "    regularization_term = 0.0\n",
    "    # sum of abs weights for L1 regularization\n",
    "    if lambda1 != 0.0:\n",
    "        sum_abs_weights = sum([abs(w).sum() for w in weights])\n",
    "        regularization_term += (lambda1 * sum_abs_weights) \n",
    "    # sum of squares (sum(theta^2))\n",
    "    if lambda2 != 0.0:\n",
    "        sum_squared_weights = (1 / 2.0) * sum([(w ** 2).sum() for w in weights])\n",
    "        regularization_term += (lambda2 * sum_squared_weights)\n",
    "    # add weights to regular loss\n",
    "    losses += regularization_term\n",
    "    return losses\n",
    "\n",
    "def eval_regularization(net):\n",
    "    if net.objective_lambda1 == 0 and net.objective_lambda2 == 0:\n",
    "        return 0\n",
    "    # check the loss if the regularization term is not overpowering the loss\n",
    "    weights = get_all_params(net.layers_[-1], regularizable=True)\n",
    "    # sum of abs weights for L1 regularization\n",
    "    sum_abs_weights = sum([abs(w).sum() for w in weights])\n",
    "    # sum of squares (sum(theta^2))\n",
    "    sum_squared_weights = (1 / 2.0) * sum([(w ** 2).sum() for w in weights])\n",
    "    # add weights to regular loss\n",
    "    regularization_term = (net.objective_lambda1 * sum_abs_weights) \\\n",
    "                          + (net.objective_lambda2 * sum_squared_weights)\n",
    "    return regularization_term\n",
    "\n",
    "\n",
    "def print_regularization_term(net):\n",
    "    if net.objective_lambda1 > 0.0 or net.objective_lambda2 > 0.0:\n",
    "        regularization_term = eval_regularization(net)\n",
    "        print \"Regularization term: {}\".format(regularization_term.eval())\n",
    "\n",
    "def validation_set_loss(_net, _X, _y):\n",
    "    \"\"\"We need this to track the validation loss\"\"\"\n",
    "    _yb = _net.predict_proba(_X)\n",
    "    _y_pred = np.argmax(_yb, axis=1)\n",
    "    _acc = metrics.accuracy_score(_y, _y_pred)\n",
    "    loss = aggregate(categorical_crossentropy(_yb, _y))\n",
    "    loss += eval_regularization(_net)\n",
    "    return loss, _acc\n",
    "\n",
    "\n",
    "def store_model(model_file_name, net):\n",
    "    directory_name = os.path.dirname(model_file_name)\n",
    "    model_file_name = os.path.basename(model_file_name)\n",
    "    if not os.path.exists(directory_name):\n",
    "        os.makedirs(directory_name)\n",
    "    # write model\n",
    "    output_model_file_name = os.path.join(directory_name, model_file_name)\n",
    "    start_write_time = time.time()\n",
    "    if os.path.isfile(output_model_file_name):\n",
    "        os.remove(output_model_file_name)\n",
    "    with open(output_model_file_name, 'wb') as experiment_model:\n",
    "        pickle.dump(net, experiment_model)\n",
    "    total_write_time = time.time() - start_write_time\n",
    "    m, s = divmod(total_write_time, 60)\n",
    "    h, m = divmod(m, 60)\n",
    "    logging.log(logging.INFO, \"Duration of saving to disk: %0d:%02d:%02d\", h, m, s)\n",
    "\n",
    "def write_validation_loss_and_store_best(validation_file_name, best_weights_file_name, \n",
    "                                         net, X_val, y_val, best_vloss, best_acc):\n",
    "    # write validation loss\n",
    "    start_validate_time = time.time()\n",
    "    vLoss, vAcc = validation_set_loss(net, X_val, y_val)\n",
    "    loss = vLoss.eval()\n",
    "    current_epoch = net.train_history_[-1]['epoch']\n",
    "    with open(validation_file_name, 'a') as validation_file:\n",
    "        validation_file.write(\"{}, {}, {}\\n\".format(current_epoch, loss, vAcc))\n",
    "\n",
    "    total_validate_time = time.time() - start_validate_time\n",
    "    m, s = divmod(total_validate_time, 60)\n",
    "    h, m = divmod(m, 60)\n",
    "    logging.log(logging.INFO, \"Duration of validation: %0d:%02d:%02d\", h, m, s)\n",
    "    \n",
    "    # store best weights here\n",
    "    if loss < best_vloss:\n",
    "        start_bw_time = time.time()\n",
    "        best_vloss = loss\n",
    "        best_acc = vAcc\n",
    "        with open(best_weights_file_name, 'wb') as best_model_file:\n",
    "            pickle.dump(net.get_all_params_values(), best_model_file, -1)\n",
    "            \n",
    "    return best_vloss, best_acc\n",
    "\n",
    "\n",
    "class AdjustVariableWithStepSize(object):\n",
    "    \"\"\"This class adjusts any variable during training\n",
    "    \"\"\"\n",
    "\n",
    "    def __init__(self, name, start=0.03, steps=3, after_epochs=2000):\n",
    "        self.name = name\n",
    "        self.start = start\n",
    "        self.steps=steps\n",
    "        self.after_epochs=after_epochs\n",
    "        self.ls = []\n",
    "\n",
    "    def __call__(self, nn, train_history):\n",
    "        if not self.ls:\n",
    "            for i in range(self.steps):\n",
    "                self.ls.extend(np.repeat(self.start/(np.power(10,i)), self.after_epochs))\n",
    "\n",
    "        try:\n",
    "            epoch = train_history[-1]['epoch']\n",
    "            new_value = np.float32(self.ls[epoch - 1])\n",
    "            getattr(nn, self.name).set_value(new_value)\n",
    "        except IndexError:\n",
    "            pass"
   ]
  },
  {
   "cell_type": "markdown",
   "metadata": {},
   "source": [
    "## CNN"
   ]
  },
  {
   "cell_type": "code",
   "execution_count": 17,
   "metadata": {
    "collapsed": false
   },
   "outputs": [],
   "source": [
    "lambda1 = 0.0\n",
    "lambda2 = 5e-3\n",
    "\n",
    "net = NeuralNet(\n",
    "    layers=softmax21,\n",
    "    max_epochs=1,\n",
    "    update=nesterov_momentum,\n",
    "    update_learning_rate=theano.shared(np.float32(0.001)),\n",
    "    update_momentum = 0.99,\n",
    "    # update=adam,\n",
    "    on_epoch_finished=[\n",
    "        EarlyStopping(patience=1000),\n",
    "        AdjustVariableWithStepSize('update_learning_rate', start=0.001, steps=2, after_epochs=8000),\n",
    "    ],\n",
    "    on_training_finished=[\n",
    "        EndTrainingFromEarlyStopping()\n",
    "    ],\n",
    "    objective=regularization_objective,\n",
    "    objective_lambda2=lambda2,\n",
    "    objective_lambda1=lambda1,\n",
    "    batch_iterator_train=BatchIterator(batch_size=100),\n",
    "    train_split=TrainSplit(\n",
    "        eval_size=0.25),\n",
    "    # train_split=TrainSplit(eval_size=0.0),\n",
    "    verbose=3,\n",
    ")"
   ]
  },
  {
   "cell_type": "code",
   "execution_count": 18,
   "metadata": {
    "collapsed": false,
    "scrolled": true
   },
   "outputs": [],
   "source": [
    "p = PrintLayerInfo()\n",
    "net.initialize()\n",
    "# p(net)"
   ]
  },
  {
   "cell_type": "markdown",
   "metadata": {},
   "source": [
    "### load cnn instead"
   ]
  },
  {
   "cell_type": "code",
   "execution_count": 19,
   "metadata": {
    "collapsed": false
   },
   "outputs": [
    {
     "name": "stdout",
     "output_type": "stream",
     "text": [
      "Model exists. Loading net.vgg.large.l2.5e3.orthog-norm-maxout8.\n"
     ]
    }
   ],
   "source": [
    "dir_name = 'net.vgg.large.l2.5e3.orthog-norm-maxout8'\n",
    "validation_file_name = \"{}/vloss-{}.txt\".format(dir_name, dir_name)\n",
    "model_file_name = \"{}/{}.pickle\".format(dir_name, dir_name)\n",
    "best_weights_file_name = \"{}/bw-{}.weights\".format(dir_name, dir_name)\n",
    "if os.path.exists(dir_name):\n",
    "    print \"Model exists. Loading {}.\".format(dir_name)\n",
    "    with open(model_file_name, 'rb') as reader:\n",
    "        net = pickle.load(reader)\n",
    "else:\n",
    "    print \"Training model from the beginning {}\".format(dir_name)"
   ]
  },
  {
   "cell_type": "code",
   "execution_count": 20,
   "metadata": {
    "collapsed": false,
    "scrolled": true
   },
   "outputs": [
    {
     "name": "stdout",
     "output_type": "stream",
     "text": [
      "Loaded parameters to layer 'conv2ddnn1' (shape 32x1x3x3).\n",
      "Loaded parameters to layer 'batchnorm2' (shape 32).\n",
      "Loaded parameters to layer 'batchnorm2' (shape 32).\n",
      "Loaded parameters to layer 'batchnorm2' (shape 32).\n",
      "Loaded parameters to layer 'batchnorm2' (shape 32).\n",
      "Loaded parameters to layer 'conv2ddnn4' (shape 32x32x3x3).\n",
      "Loaded parameters to layer 'batchnorm5' (shape 32).\n",
      "Loaded parameters to layer 'batchnorm5' (shape 32).\n",
      "Loaded parameters to layer 'batchnorm5' (shape 32).\n",
      "Loaded parameters to layer 'batchnorm5' (shape 32).\n",
      "Loaded parameters to layer 'conv2ddnn9' (shape 64x32x3x3).\n",
      "Loaded parameters to layer 'batchnorm10' (shape 64).\n",
      "Loaded parameters to layer 'batchnorm10' (shape 64).\n",
      "Loaded parameters to layer 'batchnorm10' (shape 64).\n",
      "Loaded parameters to layer 'batchnorm10' (shape 64).\n",
      "Loaded parameters to layer 'conv2ddnn12' (shape 64x64x3x3).\n",
      "Loaded parameters to layer 'batchnorm13' (shape 64).\n",
      "Loaded parameters to layer 'batchnorm13' (shape 64).\n",
      "Loaded parameters to layer 'batchnorm13' (shape 64).\n",
      "Loaded parameters to layer 'batchnorm13' (shape 64).\n",
      "Loaded parameters to layer 'conv2ddnn17' (shape 128x64x3x3).\n",
      "Loaded parameters to layer 'batchnorm18' (shape 128).\n",
      "Loaded parameters to layer 'batchnorm18' (shape 128).\n",
      "Loaded parameters to layer 'batchnorm18' (shape 128).\n",
      "Loaded parameters to layer 'batchnorm18' (shape 128).\n",
      "Loaded parameters to layer 'conv2ddnn20' (shape 128x128x3x3).\n",
      "Loaded parameters to layer 'batchnorm21' (shape 128).\n",
      "Loaded parameters to layer 'batchnorm21' (shape 128).\n",
      "Loaded parameters to layer 'batchnorm21' (shape 128).\n",
      "Loaded parameters to layer 'batchnorm21' (shape 128).\n",
      "Loaded parameters to layer 'conv2ddnn25' (shape 256x128x3x3).\n",
      "Loaded parameters to layer 'batchnorm26' (shape 256).\n",
      "Loaded parameters to layer 'batchnorm26' (shape 256).\n",
      "Loaded parameters to layer 'batchnorm26' (shape 256).\n",
      "Loaded parameters to layer 'batchnorm26' (shape 256).\n",
      "Loaded parameters to layer 'conv2ddnn28' (shape 256x256x3x3).\n",
      "Loaded parameters to layer 'batchnorm29' (shape 256).\n",
      "Loaded parameters to layer 'batchnorm29' (shape 256).\n",
      "Loaded parameters to layer 'batchnorm29' (shape 256).\n",
      "Loaded parameters to layer 'batchnorm29' (shape 256).\n",
      "Loaded parameters to layer 'conv2ddnn33' (shape 512x256x3x3).\n",
      "Loaded parameters to layer 'batchnorm34' (shape 512).\n",
      "Loaded parameters to layer 'batchnorm34' (shape 512).\n",
      "Loaded parameters to layer 'batchnorm34' (shape 512).\n",
      "Loaded parameters to layer 'batchnorm34' (shape 512).\n",
      "Loaded parameters to layer 'conv2ddnn36' (shape 512x512x3x3).\n",
      "Loaded parameters to layer 'batchnorm37' (shape 512).\n",
      "Loaded parameters to layer 'batchnorm37' (shape 512).\n",
      "Loaded parameters to layer 'batchnorm37' (shape 512).\n",
      "Loaded parameters to layer 'batchnorm37' (shape 512).\n",
      "Loaded parameters to layer 'dense41' (shape 8192x2048).\n",
      "Loaded parameters to layer 'dense41' (shape 2048).\n",
      "Loaded parameters to layer 'batchnorm42' (shape 2048).\n",
      "Loaded parameters to layer 'batchnorm42' (shape 2048).\n",
      "Loaded parameters to layer 'batchnorm42' (shape 2048).\n",
      "Loaded parameters to layer 'batchnorm42' (shape 2048).\n",
      "Loaded parameters to layer 'dense45' (shape 256x2048).\n",
      "Loaded parameters to layer 'dense45' (shape 2048).\n",
      "Loaded parameters to layer 'batchnorm46' (shape 2048).\n",
      "Loaded parameters to layer 'batchnorm46' (shape 2048).\n",
      "Loaded parameters to layer 'batchnorm46' (shape 2048).\n",
      "Loaded parameters to layer 'batchnorm46' (shape 2048).\n",
      "Loaded parameters to layer 'dense48' (shape 256x10).\n",
      "Loaded parameters to layer 'dense48' (shape 10).\n"
     ]
    }
   ],
   "source": [
    "load_best_weights(best_weights_file_name, net)"
   ]
  },
  {
   "cell_type": "code",
   "execution_count": 21,
   "metadata": {
    "collapsed": false
   },
   "outputs": [
    {
     "data": {
      "text/plain": [
       "[<matplotlib.lines.Line2D at 0x7f8fcd494b10>]"
      ]
     },
     "execution_count": 21,
     "metadata": {},
     "output_type": "execute_result"
    },
    {
     "data": {
      "image/png": "[encoded data removed]",
      "text/plain": [
       "<matplotlib.figure.Figure at 0x7f8feb59f750>"
      ]
     },
     "metadata": {},
     "output_type": "display_data"
    }
   ],
   "source": [
    "from nolearn.lasagne.visualize import plot_loss\n",
    "plt.figure( figsize=(15,9))\n",
    "plt.ylim([0.1,0.5])\n",
    "plt.plot([v['valid_loss'] for v in net.train_history_])"
   ]
  },
  {
   "cell_type": "code",
   "execution_count": 22,
   "metadata": {
    "collapsed": false
   },
   "outputs": [
    {
     "data": {
      "text/plain": [
       "[<nolearn.lasagne.handlers.PrintLog instance at 0x7f8fcabb9248>]"
      ]
     },
     "execution_count": 22,
     "metadata": {},
     "output_type": "execute_result"
    }
   ],
   "source": [
    "net.on_epoch_finished"
   ]
  },
  {
   "cell_type": "code",
   "execution_count": 23,
   "metadata": {
    "collapsed": false
   },
   "outputs": [],
   "source": [
    "net.update_learning_rate = 0.00001\n",
    "# net.on_epoch_finished.pop(0)"
   ]
  },
  {
   "cell_type": "markdown",
   "metadata": {
    "collapsed": false
   },
   "source": [
    "# just this time.\n",
    "net.on_epoch_finished.pop(1)\n",
    "print net.on_epoch_finished\n",
    "net.update_learning_rate=0.001"
   ]
  },
  {
   "cell_type": "markdown",
   "metadata": {},
   "source": [
    "## Define validation set"
   ]
  },
  {
   "cell_type": "code",
   "execution_count": null,
   "metadata": {
    "collapsed": false
   },
   "outputs": [],
   "source": [
    "val_dir =  \"/media/dylan/Science/Kaggle-Data/distracted_drivers/val/\"\n",
    "X_val, y_val = image_gen_from_dir(val_dir, 40, 10, size=input_volume_shape).next()\n",
    "X_val = X_val.reshape(-1, 1, input_volume_shape[0], input_volume_shape[1])"
   ]
  },
  {
   "cell_type": "code",
   "execution_count": null,
   "metadata": {
    "collapsed": false,
    "scrolled": true
   },
   "outputs": [
    {
     "name": "stdout",
     "output_type": "stream",
     "text": [
      "  53903       0.54187       0.56071      0.96640      0.96667  1.04s\n",
      "  53904       0.54011       0.67385      0.80153      0.96667  1.02s\n",
      "  53905       0.57318       0.49750      1.15213      1.00000  1.01s\n",
      "  53906       0.55604       0.49808      1.11635      1.00000  1.02s\n",
      "  53907       0.53049       0.54025      0.98195      1.00000  1.03s\n",
      "  53908       0.53793       0.49684      1.08270      1.00000  1.04s\n",
      "  53909       0.58136       0.53941      1.07777      0.96667  1.03s\n",
      "  53910       0.52917       0.50147      1.05524      1.00000  1.03s\n",
      "  53911       0.54986       0.49550      1.10971      1.00000  1.03s\n",
      "  53912       0.60367       0.52409      1.15183      0.96667  1.04s\n",
      "  53913       0.56180       0.51511      1.09063      1.00000  1.02s\n",
      "  53914       0.55625       0.49974      1.11308      1.00000  1.05s\n",
      "  53915       0.54149       0.56290      0.96196      0.96667  1.03s\n",
      "  53916       0.53287       0.49828      1.06942      1.00000  1.03s\n",
      "  53917       0.51200       0.50430      1.01527      1.00000  1.03s\n",
      "  53918       0.51252       0.77564      0.66077      0.93333  1.02s\n",
      "  53919       0.53798       0.60664      0.88681      0.93333  1.03s\n"
     ]
    }
   ],
   "source": [
    "image_gen = image_gen_from_dir(data_dir, 10, 10, size=input_volume_shape)\n",
    "gen = random_aug_gen(image_gen, random_aug)\n",
    "threaded_gen = threaded_generator(gen, num_cached=100)\n",
    "\n",
    "ops_every = 500\n",
    "best_acc = 0.0\n",
    "best_vloss = np.inf\n",
    "\n",
    "start_time = time.time()\n",
    "try:\n",
    "    for step, (inputs, targets) in enumerate(threaded_gen):\n",
    "        shape = inputs.shape\n",
    "        net.fit(inputs.reshape(shape[0],1, shape[1], shape[2]), targets)\n",
    "        if (step + 1) % ops_every == 0:\n",
    "            print_regularization_term(net)\n",
    "            store_model(model_file_name, net)\n",
    "            # center validation\n",
    "            best_vloss, best_acc = write_validation_loss_and_store_best(\n",
    "                validation_file_name, best_weights_file_name, net, X_val, y_val, best_vloss, best_acc)\n",
    "            \n",
    "except StopIteration:\n",
    "    # terminate if already early stopping\n",
    "    with open(model_file_name, 'wb') as writer:\n",
    "        pickle.dump(net, writer)\n",
    "    total_time = time.time() - start_time \n",
    "    print(\"Training successful by early stopping. Elapsed: {}\".format(total_time))"
   ]
  },
  {
   "cell_type": "markdown",
   "metadata": {
    "collapsed": false,
    "scrolled": true
   },
   "source": [
    "## Visualizations"
   ]
  },
  {
   "cell_type": "code",
   "execution_count": null,
   "metadata": {
    "collapsed": false
   },
   "outputs": [],
   "source": [
    "from notebook_functions import plot_validation_loss"
   ]
  },
  {
   "cell_type": "code",
   "execution_count": null,
   "metadata": {
    "collapsed": false
   },
   "outputs": [],
   "source": [
    "plot_validation_loss(net, validation_file_name, ylim=[0, 0.5])"
   ]
  },
  {
   "cell_type": "code",
   "execution_count": null,
   "metadata": {
    "collapsed": true
   },
   "outputs": [],
   "source": []
  }
 ],
 "metadata": {
  "kernelspec": {
   "display_name": "Python 2",
   "language": "python",
   "name": "python2"
  },
  "language_info": {
   "codemirror_mode": {
    "name": "ipython",
    "version": 2
   },
   "file_extension": ".py",
   "mimetype": "text/x-python",
   "name": "python",
   "nbconvert_exporter": "python",
   "pygments_lexer": "ipython2",
   "version": "2.7.6"
  }
 },
 "nbformat": 4,
 "nbformat_minor": 0
}
