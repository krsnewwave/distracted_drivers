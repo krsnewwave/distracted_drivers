{
 "cells": [
  {
   "cell_type": "code",
   "execution_count": 1,
   "metadata": {
    "collapsed": false
   },
   "outputs": [
    {
     "name": "stdout",
     "output_type": "stream",
     "text": [
      "Couldn't import dot_parser, loading of dot files will not be possible.\n",
      "Populating the interactive namespace from numpy and matplotlib"
     ]
    },
    {
     "name": "stderr",
     "output_type": "stream",
     "text": [
      "Using gpu device 0: GeForce GTX 960 (CNMeM is disabled, CuDNN 4004)\n",
      "WARNING: "
     ]
    },
    {
     "name": "stdout",
     "output_type": "stream",
     "text": [
      "\n"
     ]
    },
    {
     "name": "stderr",
     "output_type": "stream",
     "text": [
      "pylab import has clobbered these variables: ['ceil', 'floor']\n",
      "`%matplotlib` prevents importing * from pylab and numpy\n"
     ]
    }
   ],
   "source": [
    "import notebook_functions\n",
    "reload(notebook_functions)\n",
    "from notebook_functions import *\n",
    "import os, pandas as pd, cPickle as pickle\n",
    "from nolearn.lasagne.visualize import plot_conv_activity, plot_conv_weights, plot_occlusion\n",
    "from lasagne.layers import get_output, get_output_shape\n",
    "import theano.tensor as T\n",
    "import theano\n",
    "%pylab inline"
   ]
  },
  {
   "cell_type": "code",
   "execution_count": 19,
   "metadata": {
    "collapsed": true
   },
   "outputs": [],
   "source": [
    "models = [\"net.vgg.large.l2.5e3.orthog-norm-dense\", \n",
    "          \"net.vgg.large.l2.5e3.orthog-norm-maxout8\", \n",
    "          \"net.vgg.large.l2.5e3.orthog-norm-maxout8-lr.2.steps\"]"
   ]
  },
  {
   "cell_type": "code",
   "execution_count": 10,
   "metadata": {
    "collapsed": false
   },
   "outputs": [
    {
     "data": {
      "text/plain": [
       "(128, 128)"
      ]
     },
     "execution_count": 10,
     "metadata": {},
     "output_type": "execute_result"
    }
   ],
   "source": [
    "val_dir =  \"/media/dylan/Science/Kaggle-Data/distracted_drivers/test/\"\n",
    "input_volume_shape = (128, 128)"
   ]
  },
  {
   "cell_type": "code",
   "execution_count": 4,
   "metadata": {
    "collapsed": false,
    "scrolled": true
   },
   "outputs": [],
   "source": [
    "def image_gen_from_dir_with_filenames(data_dir, batches, size):\n",
    "    result = [os.path.join(dp, f) for dp, dn, filenames in os.walk(data_dir) \n",
    "                  for f in filenames if os.path.splitext(f)[1] == '.jpg']\n",
    "    image_files = []\n",
    "    filenames = []\n",
    "    for file_path in result:\n",
    "        image_files.append(read_img_file_PIL(file_path, size=input_volume_shape))\n",
    "        filenames.append(os.path.basename(file_path))\n",
    "        if len(image_files) == batches:\n",
    "            X = np.asarray(image_files, dtype=np.float32)\n",
    "            X = exposure.rescale_intensity(X, out_range=(-1,1))\n",
    "            yield X, filenames\n",
    "            image_files = []\n",
    "            filenames = []\n",
    "            \n",
    "    # end result loop, yield any leftover image files\n",
    "    X = np.asarray(image_files, dtype=np.float32)\n",
    "    X = exposure.rescale_intensity(X, out_range=(-1,1))\n",
    "    yield X, filenames"
   ]
  },
  {
   "cell_type": "code",
   "execution_count": 5,
   "metadata": {
    "collapsed": true
   },
   "outputs": [],
   "source": [
    "X, filenames = image_gen_from_dir_with_filenames(val_dir, 20, input_volume_shape).next()"
   ]
  },
  {
   "cell_type": "markdown",
   "metadata": {},
   "source": [
    "# Evaluation Proper"
   ]
  },
  {
   "cell_type": "code",
   "execution_count": 11,
   "metadata": {
    "collapsed": true
   },
   "outputs": [],
   "source": [
    "total_probs = []"
   ]
  },
  {
   "cell_type": "code",
   "execution_count": 12,
   "metadata": {
    "collapsed": false,
    "scrolled": false
   },
   "outputs": [
    {
     "name": "stdout",
     "output_type": "stream",
     "text": [
      "\n",
      "=== Loading model: net.vgg.large.l2.5e3.orthog-norm-dense ===\n",
      "\n",
      "Loaded parameters to layer 'conv2ddnn1' (shape 32x1x3x3).\n",
      "Loaded parameters to layer 'batchnorm2' (shape 32).\n",
      "Loaded parameters to layer 'batchnorm2' (shape 32).\n",
      "Loaded parameters to layer 'batchnorm2' (shape 32).\n",
      "Loaded parameters to layer 'batchnorm2' (shape 32).\n",
      "Loaded parameters to layer 'conv2ddnn4' (shape 32x32x3x3).\n",
      "Loaded parameters to layer 'batchnorm5' (shape 32).\n",
      "Loaded parameters to layer 'batchnorm5' (shape 32).\n",
      "Loaded parameters to layer 'batchnorm5' (shape 32).\n",
      "Loaded parameters to layer 'batchnorm5' (shape 32).\n",
      "Loaded parameters to layer 'conv2ddnn9' (shape 64x32x3x3).\n",
      "Loaded parameters to layer 'batchnorm10' (shape 64).\n",
      "Loaded parameters to layer 'batchnorm10' (shape 64).\n",
      "Loaded parameters to layer 'batchnorm10' (shape 64).\n",
      "Loaded parameters to layer 'batchnorm10' (shape 64).\n",
      "Loaded parameters to layer 'conv2ddnn12' (shape 64x64x3x3).\n",
      "Loaded parameters to layer 'batchnorm13' (shape 64).\n",
      "Loaded parameters to layer 'batchnorm13' (shape 64).\n",
      "Loaded parameters to layer 'batchnorm13' (shape 64).\n",
      "Loaded parameters to layer 'batchnorm13' (shape 64).\n",
      "Loaded parameters to layer 'conv2ddnn17' (shape 128x64x3x3).\n",
      "Loaded parameters to layer 'batchnorm18' (shape 128).\n",
      "Loaded parameters to layer 'batchnorm18' (shape 128).\n",
      "Loaded parameters to layer 'batchnorm18' (shape 128).\n",
      "Loaded parameters to layer 'batchnorm18' (shape 128).\n",
      "Loaded parameters to layer 'conv2ddnn20' (shape 128x128x3x3).\n",
      "Loaded parameters to layer 'batchnorm21' (shape 128).\n",
      "Loaded parameters to layer 'batchnorm21' (shape 128).\n",
      "Loaded parameters to layer 'batchnorm21' (shape 128).\n",
      "Loaded parameters to layer 'batchnorm21' (shape 128).\n",
      "Loaded parameters to layer 'conv2ddnn25' (shape 256x128x3x3).\n",
      "Loaded parameters to layer 'batchnorm26' (shape 256).\n",
      "Loaded parameters to layer 'batchnorm26' (shape 256).\n",
      "Loaded parameters to layer 'batchnorm26' (shape 256).\n",
      "Loaded parameters to layer 'batchnorm26' (shape 256).\n",
      "Loaded parameters to layer 'conv2ddnn28' (shape 256x256x3x3).\n",
      "Loaded parameters to layer 'batchnorm29' (shape 256).\n",
      "Loaded parameters to layer 'batchnorm29' (shape 256).\n",
      "Loaded parameters to layer 'batchnorm29' (shape 256).\n",
      "Loaded parameters to layer 'batchnorm29' (shape 256).\n",
      "Loaded parameters to layer 'conv2ddnn33' (shape 512x256x3x3).\n",
      "Loaded parameters to layer 'batchnorm34' (shape 512).\n",
      "Loaded parameters to layer 'batchnorm34' (shape 512).\n",
      "Loaded parameters to layer 'batchnorm34' (shape 512).\n",
      "Loaded parameters to layer 'batchnorm34' (shape 512).\n",
      "Loaded parameters to layer 'conv2ddnn36' (shape 512x512x3x3).\n",
      "Loaded parameters to layer 'batchnorm37' (shape 512).\n",
      "Loaded parameters to layer 'batchnorm37' (shape 512).\n",
      "Loaded parameters to layer 'batchnorm37' (shape 512).\n",
      "Loaded parameters to layer 'batchnorm37' (shape 512).\n",
      "Loaded parameters to layer 'dense41' (shape 8192x2048).\n",
      "Loaded parameters to layer 'batchnorm42' (shape 2048).\n",
      "Loaded parameters to layer 'batchnorm42' (shape 2048).\n",
      "Loaded parameters to layer 'batchnorm42' (shape 2048).\n",
      "Loaded parameters to layer 'batchnorm42' (shape 2048).\n",
      "Loaded parameters to layer 'dense45' (shape 2048x2048).\n",
      "Loaded parameters to layer 'batchnorm46' (shape 2048).\n",
      "Loaded parameters to layer 'batchnorm46' (shape 2048).\n",
      "Loaded parameters to layer 'batchnorm46' (shape 2048).\n",
      "Loaded parameters to layer 'batchnorm46' (shape 2048).\n",
      "Loaded parameters to layer 'dense48' (shape 2048x10).\n",
      "Loaded parameters to layer 'dense48' (shape 10).\n",
      "\n",
      "=== Loading model: net.vgg.large.l2.5e3.orthog-norm-maxout8 ===\n",
      "\n",
      "Loaded parameters to layer 'conv2ddnn1' (shape 32x1x3x3).\n",
      "Loaded parameters to layer 'batchnorm2' (shape 32).\n",
      "Loaded parameters to layer 'batchnorm2' (shape 32).\n",
      "Loaded parameters to layer 'batchnorm2' (shape 32).\n",
      "Loaded parameters to layer 'batchnorm2' (shape 32).\n",
      "Loaded parameters to layer 'conv2ddnn4' (shape 32x32x3x3).\n",
      "Loaded parameters to layer 'batchnorm5' (shape 32).\n",
      "Loaded parameters to layer 'batchnorm5' (shape 32).\n",
      "Loaded parameters to layer 'batchnorm5' (shape 32).\n",
      "Loaded parameters to layer 'batchnorm5' (shape 32).\n",
      "Loaded parameters to layer 'conv2ddnn9' (shape 64x32x3x3).\n",
      "Loaded parameters to layer 'batchnorm10' (shape 64).\n",
      "Loaded parameters to layer 'batchnorm10' (shape 64).\n",
      "Loaded parameters to layer 'batchnorm10' (shape 64).\n",
      "Loaded parameters to layer 'batchnorm10' (shape 64).\n",
      "Loaded parameters to layer 'conv2ddnn12' (shape 64x64x3x3).\n",
      "Loaded parameters to layer 'batchnorm13' (shape 64).\n",
      "Loaded parameters to layer 'batchnorm13' (shape 64).\n",
      "Loaded parameters to layer 'batchnorm13' (shape 64).\n",
      "Loaded parameters to layer 'batchnorm13' (shape 64).\n",
      "Loaded parameters to layer 'conv2ddnn17' (shape 128x64x3x3).\n",
      "Loaded parameters to layer 'batchnorm18' (shape 128).\n",
      "Loaded parameters to layer 'batchnorm18' (shape 128).\n",
      "Loaded parameters to layer 'batchnorm18' (shape 128).\n",
      "Loaded parameters to layer 'batchnorm18' (shape 128).\n",
      "Loaded parameters to layer 'conv2ddnn20' (shape 128x128x3x3).\n",
      "Loaded parameters to layer 'batchnorm21' (shape 128).\n",
      "Loaded parameters to layer 'batchnorm21' (shape 128).\n",
      "Loaded parameters to layer 'batchnorm21' (shape 128).\n",
      "Loaded parameters to layer 'batchnorm21' (shape 128).\n",
      "Loaded parameters to layer 'conv2ddnn25' (shape 256x128x3x3).\n",
      "Loaded parameters to layer 'batchnorm26' (shape 256).\n",
      "Loaded parameters to layer 'batchnorm26' (shape 256).\n",
      "Loaded parameters to layer 'batchnorm26' (shape 256).\n",
      "Loaded parameters to layer 'batchnorm26' (shape 256).\n",
      "Loaded parameters to layer 'conv2ddnn28' (shape 256x256x3x3).\n",
      "Loaded parameters to layer 'batchnorm29' (shape 256).\n",
      "Loaded parameters to layer 'batchnorm29' (shape 256).\n",
      "Loaded parameters to layer 'batchnorm29' (shape 256).\n",
      "Loaded parameters to layer 'batchnorm29' (shape 256).\n",
      "Loaded parameters to layer 'conv2ddnn33' (shape 512x256x3x3).\n",
      "Loaded parameters to layer 'batchnorm34' (shape 512).\n",
      "Loaded parameters to layer 'batchnorm34' (shape 512).\n",
      "Loaded parameters to layer 'batchnorm34' (shape 512).\n",
      "Loaded parameters to layer 'batchnorm34' (shape 512).\n",
      "Loaded parameters to layer 'conv2ddnn36' (shape 512x512x3x3).\n",
      "Loaded parameters to layer 'batchnorm37' (shape 512).\n",
      "Loaded parameters to layer 'batchnorm37' (shape 512).\n",
      "Loaded parameters to layer 'batchnorm37' (shape 512).\n",
      "Loaded parameters to layer 'batchnorm37' (shape 512).\n",
      "Loaded parameters to layer 'dense41' (shape 8192x2048).\n",
      "Loaded parameters to layer 'dense41' (shape 2048).\n",
      "Loaded parameters to layer 'batchnorm42' (shape 2048).\n",
      "Loaded parameters to layer 'batchnorm42' (shape 2048).\n",
      "Loaded parameters to layer 'batchnorm42' (shape 2048).\n",
      "Loaded parameters to layer 'batchnorm42' (shape 2048).\n",
      "Loaded parameters to layer 'dense45' (shape 256x2048).\n",
      "Loaded parameters to layer 'dense45' (shape 2048).\n",
      "Loaded parameters to layer 'batchnorm46' (shape 2048).\n",
      "Loaded parameters to layer 'batchnorm46' (shape 2048).\n",
      "Loaded parameters to layer 'batchnorm46' (shape 2048).\n",
      "Loaded parameters to layer 'batchnorm46' (shape 2048).\n",
      "Loaded parameters to layer 'dense48' (shape 256x10).\n",
      "Loaded parameters to layer 'dense48' (shape 10).\n",
      "\n",
      "=== Loading model: net.vgg.large.l2.5e3.orthog-norm-maxout8-lr.2.steps/ ===\n",
      "\n"
     ]
    },
    {
     "ename": "IOError",
     "evalue": "[Errno 2] No such file or directory: 'net.vgg.large.l2.5e3.orthog-norm-maxout8-lr.2.steps//net.vgg.large.l2.5e3.orthog-norm-maxout8-lr.2.steps/.pickle'",
     "output_type": "error",
     "traceback": [
      "\u001b[1;31m---------------------------------------------------------------------------\u001b[0m",
      "\u001b[1;31mIOError\u001b[0m                                   Traceback (most recent call last)",
      "\u001b[1;32m<ipython-input-12-e003de9a5200>\u001b[0m in \u001b[0;36m<module>\u001b[1;34m()\u001b[0m\n\u001b[0;32m      4\u001b[0m     \u001b[0mbest_weights_file_name\u001b[0m \u001b[1;33m=\u001b[0m \u001b[1;34m\"{}/bw-{}.weights\"\u001b[0m\u001b[1;33m.\u001b[0m\u001b[0mformat\u001b[0m\u001b[1;33m(\u001b[0m\u001b[0mdir_name\u001b[0m\u001b[1;33m,\u001b[0m \u001b[0mdir_name\u001b[0m\u001b[1;33m)\u001b[0m\u001b[1;33m\u001b[0m\u001b[0m\n\u001b[0;32m      5\u001b[0m     \u001b[1;32mprint\u001b[0m \u001b[1;34m\"\\n=== Loading model: {} ===\\n\"\u001b[0m\u001b[1;33m.\u001b[0m\u001b[0mformat\u001b[0m\u001b[1;33m(\u001b[0m\u001b[0mdir_name\u001b[0m\u001b[1;33m)\u001b[0m\u001b[1;33m\u001b[0m\u001b[0m\n\u001b[1;32m----> 6\u001b[1;33m     \u001b[1;32mwith\u001b[0m \u001b[0mopen\u001b[0m\u001b[1;33m(\u001b[0m\u001b[0mmodel_file_name\u001b[0m\u001b[1;33m,\u001b[0m \u001b[1;34m'rb'\u001b[0m\u001b[1;33m)\u001b[0m \u001b[1;32mas\u001b[0m \u001b[0mreader\u001b[0m\u001b[1;33m:\u001b[0m\u001b[1;33m\u001b[0m\u001b[0m\n\u001b[0m\u001b[0;32m      7\u001b[0m         \u001b[0mnet\u001b[0m \u001b[1;33m=\u001b[0m \u001b[0mpickle\u001b[0m\u001b[1;33m.\u001b[0m\u001b[0mload\u001b[0m\u001b[1;33m(\u001b[0m\u001b[0mreader\u001b[0m\u001b[1;33m)\u001b[0m\u001b[1;33m\u001b[0m\u001b[0m\n\u001b[0;32m      8\u001b[0m     \u001b[0mload_best_weights\u001b[0m\u001b[1;33m(\u001b[0m\u001b[0mbest_weights_file_name\u001b[0m\u001b[1;33m,\u001b[0m \u001b[0mnet\u001b[0m\u001b[1;33m)\u001b[0m\u001b[1;33m\u001b[0m\u001b[0m\n",
      "\u001b[1;31mIOError\u001b[0m: [Errno 2] No such file or directory: 'net.vgg.large.l2.5e3.orthog-norm-maxout8-lr.2.steps//net.vgg.large.l2.5e3.orthog-norm-maxout8-lr.2.steps/.pickle'"
     ]
    }
   ],
   "source": [
    "for dir_name in models:\n",
    "    validation_file_name = \"{}/vloss-{}.txt\".format(dir_name, dir_name)\n",
    "    model_file_name = \"{}/{}.pickle\".format(dir_name, dir_name)\n",
    "    best_weights_file_name = \"{}/bw-{}.weights\".format(dir_name, dir_name)\n",
    "    print \"\\n=== Loading model: {} ===\\n\".format(dir_name)\n",
    "    with open(model_file_name, 'rb') as reader:\n",
    "        net = pickle.load(reader)\n",
    "    load_best_weights(best_weights_file_name, net)\n",
    "    \n",
    "    image_gen = image_gen_from_dir_with_filenames(val_dir, 40, input_volume_shape)\n",
    "    threaded_gen = threaded_generator(image_gen, num_cached=40)\n",
    "\n",
    "    all_probs = []\n",
    "    all_file_names = []\n",
    "    for X, file_names in threaded_gen:\n",
    "        all_probs.extend(net.predict_proba(X.reshape(-1, 1, input_volume_shape[0], input_volume_shape[1])))\n",
    "        all_file_names.extend(file_names)\n",
    "    \n",
    "    total_probs.append(all_probs)"
   ]
  },
  {
   "cell_type": "code",
   "execution_count": 24,
   "metadata": {
    "collapsed": false
   },
   "outputs": [],
   "source": [
    "ave_probs = np.mean(total_probs, axis=0)"
   ]
  },
  {
   "cell_type": "code",
   "execution_count": 25,
   "metadata": {
    "collapsed": false,
    "scrolled": true
   },
   "outputs": [
    {
     "data": {
      "text/plain": [
       "(79726, 10)"
      ]
     },
     "execution_count": 25,
     "metadata": {},
     "output_type": "execute_result"
    }
   ],
   "source": [
    "df = pd.DataFrame(np.asarray(ave_probs), \n",
    "                  index = all_file_names, columns=[\"c0\",\"c1\", \"c2\", \"c3\", \"c4\", \"c5\", \"c6\", \"c7\", \"c8\", \"c9\"])\n",
    "df.index.name = 'img'\n",
    "df.shape"
   ]
  },
  {
   "cell_type": "code",
   "execution_count": 26,
   "metadata": {
    "collapsed": false
   },
   "outputs": [],
   "source": [
    "df.to_csv(\"preds.bagged.001.csv\")"
   ]
  },
  {
   "cell_type": "code",
   "execution_count": 27,
   "metadata": {
    "collapsed": false
   },
   "outputs": [
    {
     "data": {
      "text/html": [
       "<div>\n",
       "<table border=\"1\" class=\"dataframe\">\n",
       "  <thead>\n",
       "    <tr style=\"text-align: right;\">\n",
       "      <th></th>\n",
       "      <th>c0</th>\n",
       "      <th>c1</th>\n",
       "      <th>c2</th>\n",
       "      <th>c3</th>\n",
       "      <th>c4</th>\n",
       "      <th>c5</th>\n",
       "      <th>c6</th>\n",
       "      <th>c7</th>\n",
       "      <th>c8</th>\n",
       "      <th>c9</th>\n",
       "    </tr>\n",
       "    <tr>\n",
       "      <th>img</th>\n",
       "      <th></th>\n",
       "      <th></th>\n",
       "      <th></th>\n",
       "      <th></th>\n",
       "      <th></th>\n",
       "      <th></th>\n",
       "      <th></th>\n",
       "      <th></th>\n",
       "      <th></th>\n",
       "      <th></th>\n",
       "    </tr>\n",
       "  </thead>\n",
       "  <tbody>\n",
       "    <tr>\n",
       "      <th>img_73540.jpg</th>\n",
       "      <td>0.002068</td>\n",
       "      <td>0.001070</td>\n",
       "      <td>0.001171</td>\n",
       "      <td>0.001879</td>\n",
       "      <td>0.001061</td>\n",
       "      <td>0.988639</td>\n",
       "      <td>0.001038</td>\n",
       "      <td>0.001012</td>\n",
       "      <td>0.000941</td>\n",
       "      <td>0.001121</td>\n",
       "    </tr>\n",
       "    <tr>\n",
       "      <th>img_9672.jpg</th>\n",
       "      <td>0.002029</td>\n",
       "      <td>0.002374</td>\n",
       "      <td>0.982668</td>\n",
       "      <td>0.001452</td>\n",
       "      <td>0.001601</td>\n",
       "      <td>0.001600</td>\n",
       "      <td>0.001891</td>\n",
       "      <td>0.001657</td>\n",
       "      <td>0.002499</td>\n",
       "      <td>0.002229</td>\n",
       "    </tr>\n",
       "    <tr>\n",
       "      <th>img_49295.jpg</th>\n",
       "      <td>0.001817</td>\n",
       "      <td>0.001031</td>\n",
       "      <td>0.001063</td>\n",
       "      <td>0.001287</td>\n",
       "      <td>0.989370</td>\n",
       "      <td>0.001161</td>\n",
       "      <td>0.001099</td>\n",
       "      <td>0.001106</td>\n",
       "      <td>0.000996</td>\n",
       "      <td>0.001070</td>\n",
       "    </tr>\n",
       "    <tr>\n",
       "      <th>img_91517.jpg</th>\n",
       "      <td>0.003012</td>\n",
       "      <td>0.001345</td>\n",
       "      <td>0.001518</td>\n",
       "      <td>0.001606</td>\n",
       "      <td>0.001643</td>\n",
       "      <td>0.985064</td>\n",
       "      <td>0.001751</td>\n",
       "      <td>0.001497</td>\n",
       "      <td>0.001173</td>\n",
       "      <td>0.001393</td>\n",
       "    </tr>\n",
       "    <tr>\n",
       "      <th>img_51925.jpg</th>\n",
       "      <td>0.954098</td>\n",
       "      <td>0.003298</td>\n",
       "      <td>0.002645</td>\n",
       "      <td>0.008444</td>\n",
       "      <td>0.004786</td>\n",
       "      <td>0.007253</td>\n",
       "      <td>0.003060</td>\n",
       "      <td>0.002755</td>\n",
       "      <td>0.002484</td>\n",
       "      <td>0.011176</td>\n",
       "    </tr>\n",
       "    <tr>\n",
       "      <th>img_87962.jpg</th>\n",
       "      <td>0.000895</td>\n",
       "      <td>0.000900</td>\n",
       "      <td>0.000876</td>\n",
       "      <td>0.000884</td>\n",
       "      <td>0.000913</td>\n",
       "      <td>0.001025</td>\n",
       "      <td>0.000864</td>\n",
       "      <td>0.991558</td>\n",
       "      <td>0.001029</td>\n",
       "      <td>0.001055</td>\n",
       "    </tr>\n",
       "    <tr>\n",
       "      <th>img_30198.jpg</th>\n",
       "      <td>0.004367</td>\n",
       "      <td>0.003663</td>\n",
       "      <td>0.001313</td>\n",
       "      <td>0.982495</td>\n",
       "      <td>0.001483</td>\n",
       "      <td>0.001418</td>\n",
       "      <td>0.001506</td>\n",
       "      <td>0.001235</td>\n",
       "      <td>0.001362</td>\n",
       "      <td>0.001158</td>\n",
       "    </tr>\n",
       "    <tr>\n",
       "      <th>img_78210.jpg</th>\n",
       "      <td>0.007895</td>\n",
       "      <td>0.009034</td>\n",
       "      <td>0.005388</td>\n",
       "      <td>0.004335</td>\n",
       "      <td>0.004090</td>\n",
       "      <td>0.003929</td>\n",
       "      <td>0.004543</td>\n",
       "      <td>0.004333</td>\n",
       "      <td>0.920090</td>\n",
       "      <td>0.036363</td>\n",
       "    </tr>\n",
       "    <tr>\n",
       "      <th>img_19345.jpg</th>\n",
       "      <td>0.001147</td>\n",
       "      <td>0.001282</td>\n",
       "      <td>0.001386</td>\n",
       "      <td>0.002035</td>\n",
       "      <td>0.986630</td>\n",
       "      <td>0.001751</td>\n",
       "      <td>0.001483</td>\n",
       "      <td>0.001299</td>\n",
       "      <td>0.001473</td>\n",
       "      <td>0.001514</td>\n",
       "    </tr>\n",
       "    <tr>\n",
       "      <th>img_9079.jpg</th>\n",
       "      <td>0.968969</td>\n",
       "      <td>0.002249</td>\n",
       "      <td>0.002133</td>\n",
       "      <td>0.002332</td>\n",
       "      <td>0.002400</td>\n",
       "      <td>0.003605</td>\n",
       "      <td>0.002282</td>\n",
       "      <td>0.001961</td>\n",
       "      <td>0.002219</td>\n",
       "      <td>0.011849</td>\n",
       "    </tr>\n",
       "  </tbody>\n",
       "</table>\n",
       "</div>"
      ],
      "text/plain": [
       "                     c0        c1        c2        c3        c4        c5  \\\n",
       "img                                                                         \n",
       "img_73540.jpg  0.002068  0.001070  0.001171  0.001879  0.001061  0.988639   \n",
       "img_9672.jpg   0.002029  0.002374  0.982668  0.001452  0.001601  0.001600   \n",
       "img_49295.jpg  0.001817  0.001031  0.001063  0.001287  0.989370  0.001161   \n",
       "img_91517.jpg  0.003012  0.001345  0.001518  0.001606  0.001643  0.985064   \n",
       "img_51925.jpg  0.954098  0.003298  0.002645  0.008444  0.004786  0.007253   \n",
       "img_87962.jpg  0.000895  0.000900  0.000876  0.000884  0.000913  0.001025   \n",
       "img_30198.jpg  0.004367  0.003663  0.001313  0.982495  0.001483  0.001418   \n",
       "img_78210.jpg  0.007895  0.009034  0.005388  0.004335  0.004090  0.003929   \n",
       "img_19345.jpg  0.001147  0.001282  0.001386  0.002035  0.986630  0.001751   \n",
       "img_9079.jpg   0.968969  0.002249  0.002133  0.002332  0.002400  0.003605   \n",
       "\n",
       "                     c6        c7        c8        c9  \n",
       "img                                                    \n",
       "img_73540.jpg  0.001038  0.001012  0.000941  0.001121  \n",
       "img_9672.jpg   0.001891  0.001657  0.002499  0.002229  \n",
       "img_49295.jpg  0.001099  0.001106  0.000996  0.001070  \n",
       "img_91517.jpg  0.001751  0.001497  0.001173  0.001393  \n",
       "img_51925.jpg  0.003060  0.002755  0.002484  0.011176  \n",
       "img_87962.jpg  0.000864  0.991558  0.001029  0.001055  \n",
       "img_30198.jpg  0.001506  0.001235  0.001362  0.001158  \n",
       "img_78210.jpg  0.004543  0.004333  0.920090  0.036363  \n",
       "img_19345.jpg  0.001483  0.001299  0.001473  0.001514  \n",
       "img_9079.jpg   0.002282  0.001961  0.002219  0.011849  "
      ]
     },
     "execution_count": 27,
     "metadata": {},
     "output_type": "execute_result"
    }
   ],
   "source": [
    "df[:10]"
   ]
  },
  {
   "cell_type": "code",
   "execution_count": null,
   "metadata": {
    "collapsed": true
   },
   "outputs": [],
   "source": []
  }
 ],
 "metadata": {
  "kernelspec": {
   "display_name": "Python 2",
   "language": "python",
   "name": "python2"
  },
  "language_info": {
   "codemirror_mode": {
    "name": "ipython",
    "version": 2
   },
   "file_extension": ".py",
   "mimetype": "text/x-python",
   "name": "python",
   "nbconvert_exporter": "python",
   "pygments_lexer": "ipython2",
   "version": "2.7.6"
  }
 },
 "nbformat": 4,
 "nbformat_minor": 0
}
